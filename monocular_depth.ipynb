{
 "cells": [
  {
   "cell_type": "code",
   "execution_count": 2,
   "metadata": {},
   "outputs": [
    {
     "name": "stderr",
     "output_type": "stream",
     "text": [
      "[ WARN:0@53.576] global /io/opencv/modules/dnn/src/net_impl.cpp (179) setUpNet DNN module was not built with CUDA backend; switching to CPU\n"
     ]
    }
   ],
   "source": [
    "import numpy as np\n",
    "import cv2\n",
    "import time\n",
    "\n",
    "\n",
    "path_model = \"/home/deepin/Documents/monocular_depth/\"\n",
    "\n",
    "# Read Network\n",
    "model_name = \"model-f6b98070.onnx\"; # MiDaS v2.1 Large\n",
    "#model_name = \"model-small.onnx\"; # MiDaS v2.1 Small\n",
    "\n",
    "\n",
    "# Load the DNN model\n",
    "model = cv2.dnn.readNet(path_model + model_name)\n",
    "\n",
    "\n",
    "if (model.empty()):\n",
    "    print(\"Could not load the neural net! - Check path\")\n",
    "\n",
    "\n",
    "# Set backend and target to CUDA to use GPU\n",
    "model.setPreferableBackend(cv2.dnn.DNN_BACKEND_CUDA)\n",
    "model.setPreferableTarget(cv2.dnn.DNN_TARGET_CUDA)\n",
    "\n",
    "import numpy as np\n",
    "import cv2\n",
    "import time\n",
    "\n",
    "\n",
    " \n",
    "# Webcam\n",
    "cap = cv2.VideoCapture(0)\n",
    "\n",
    "\n",
    "while cap.isOpened():\n",
    "\n",
    "    # Read in the image\n",
    "    success, img = cap.read()\n",
    "\n",
    "    imgHeight, imgWidth, channels = img.shape\n",
    "\n",
    "    # start time to calculate FPS\n",
    "    start = time.time()\n",
    "\n",
    "\n",
    "    img = cv2.cvtColor(img, cv2.COLOR_BGR2RGB)\n",
    "\n",
    "\n",
    "    # Create Blob from Input Image\n",
    "    # MiDaS v2.1 Large ( Scale : 1 / 255, Size : 384 x 384, Mean Subtraction : ( 123.675, 116.28, 103.53 ), Channels Order : RGB )\n",
    "    blob = cv2.dnn.blobFromImage(img, 1/255., (384,384), (123.675, 116.28, 103.53), True, False)\n",
    "\n",
    "    # MiDaS v2.1 Small ( Scale : 1 / 255, Size : 256 x 256, Mean Subtraction : ( 123.675, 116.28, 103.53 ), Channels Order : RGB )\n",
    "    #blob = cv2.dnn.blobFromImage(img, 1/255., (256,256), (123.675, 116.28, 103.53), True, False)\n",
    "\n",
    "    # Set input to the model\n",
    "    model.setInput(blob)\n",
    "\n",
    "    # Make forward pass in model\n",
    "    output = model.forward()\n",
    "    \n",
    "    output = output[0,:,:]\n",
    "    output = cv2.resize(output, (imgWidth, imgHeight))\n",
    "\n",
    "    # Normalize the output\n",
    "    output = cv2.normalize(output, None, 0, 1, norm_type=cv2.NORM_MINMAX, dtype=cv2.CV_32F)\n",
    "\n",
    "\n",
    "\n",
    "    # End time\n",
    "    end = time.time()\n",
    "    # calculate the FPS for current frame detection\n",
    "    fps = 1 / (end-start)\n",
    "    # Show FPS\n",
    "    cv2.putText(img, f\"{fps:.2f} FPS\", (20, 30), cv2.FONT_HERSHEY_SIMPLEX, 1, (0, 255, 0), 2)\n",
    "    \n",
    "    img = cv2.cvtColor(img, cv2.COLOR_RGB2BGR)\n",
    "\n",
    "    cv2.imshow('image', img)\n",
    "    cv2.imshow('Depth Map', output)\n",
    "\n",
    "\n",
    "    if cv2.waitKey(10) & 0xFF == ord('q'):\n",
    "        break\n",
    "\n",
    " \n",
    "\n",
    "cap.release()\n",
    "cv2.destroyAllWindows()"
   ]
  }
 ],
 "metadata": {
  "kernelspec": {
   "display_name": "Python 3",
   "language": "python",
   "name": "python3"
  },
  "language_info": {
   "codemirror_mode": {
    "name": "ipython",
    "version": 3
   },
   "file_extension": ".py",
   "mimetype": "text/x-python",
   "name": "python",
   "nbconvert_exporter": "python",
   "pygments_lexer": "ipython3",
   "version": "3.10.6"
  },
  "orig_nbformat": 4,
  "vscode": {
   "interpreter": {
    "hash": "916dbcbb3f70747c44a77c7bcd40155683ae19c65e1c03b4aa3499c5328201f1"
   }
  }
 },
 "nbformat": 4,
 "nbformat_minor": 2
}
