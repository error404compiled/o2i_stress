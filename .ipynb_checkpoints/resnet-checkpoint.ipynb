{
 "cells": [
  {
   "cell_type": "code",
   "execution_count": 23,
   "metadata": {},
   "outputs": [],
   "source": [
    "import pandas as pd\n",
    "import numpy as np\n",
    "from tabulate import tabulate\n",
    "import os\n",
    "import datetime as datetime\n",
    "import pickle as pkl"
   ]
  },
  {
   "cell_type": "code",
   "execution_count": 24,
   "metadata": {},
   "outputs": [],
   "source": [
    "filtered_train = pd.read_csv('/home/deepin/Desktop/projects/hrv/WESAD/WESAD/S3chest.csv')"
   ]
  },
  {
   "cell_type": "code",
   "execution_count": 25,
   "metadata": {},
   "outputs": [
    {
     "data": {
      "text/plain": [
       "Index(['ID', 'chestACCx', 'chestACCy', 'chestACCz', 'chestECG', 'chestEMG',\n",
       "       'chestEDA', 'chestTemp', 'chestResp', 'label'],\n",
       "      dtype='object')"
      ]
     },
     "execution_count": 25,
     "metadata": {},
     "output_type": "execute_result"
    }
   ],
   "source": [
    "filtered_train.columns"
   ]
  },
  {
   "cell_type": "code",
   "execution_count": 26,
   "metadata": {},
   "outputs": [
    {
     "data": {
      "text/plain": [
       "(4545100, 10)"
      ]
     },
     "execution_count": 26,
     "metadata": {},
     "output_type": "execute_result"
    }
   ],
   "source": [
    "filtered_train.shape"
   ]
  },
  {
   "cell_type": "code",
   "execution_count": 27,
   "metadata": {},
   "outputs": [
    {
     "data": {
      "text/plain": [
       "0          0\n",
       "1          0\n",
       "2          0\n",
       "3          0\n",
       "4          0\n",
       "          ..\n",
       "4545095    0\n",
       "4545096    0\n",
       "4545097    0\n",
       "4545098    0\n",
       "4545099    0\n",
       "Name: label, Length: 4545100, dtype: int64"
      ]
     },
     "execution_count": 27,
     "metadata": {},
     "output_type": "execute_result"
    }
   ],
   "source": [
    "df=filtered_train[\"label\"]\n",
    "df"
   ]
  },
  {
   "cell_type": "code",
   "execution_count": 28,
   "metadata": {},
   "outputs": [
    {
     "data": {
      "text/plain": [
       "array([0, 1, 2, 3, 4, 5, 6, 7])"
      ]
     },
     "execution_count": 28,
     "metadata": {},
     "output_type": "execute_result"
    }
   ],
   "source": [
    "a=np.unique(filtered_train['label'])\n",
    "a"
   ]
  },
  {
   "cell_type": "code",
   "execution_count": 29,
   "metadata": {},
   "outputs": [],
   "source": [
    "filtered_train = filtered_train.drop(['ID'], axis=1)"
   ]
  },
  {
   "cell_type": "code",
   "execution_count": 30,
   "metadata": {},
   "outputs": [
    {
     "name": "stdout",
     "output_type": "stream",
     "text": [
      "[1 2 3]\n"
     ]
    }
   ],
   "source": [
    "filtered_train = filtered_train[filtered_train['label']<4]\n",
    "filtered_train = filtered_train[filtered_train['label']!=0]\n",
    "#print(filtered_train['ID'].unique())\n",
    "print(filtered_train['label'].unique())"
   ]
  },
  {
   "cell_type": "code",
   "execution_count": 31,
   "metadata": {},
   "outputs": [
    {
     "data": {
      "text/plain": [
       "chestACCx    0.465554\n",
       "chestACCy    0.299032\n",
       "chestACCz    0.845686\n",
       "chestECG    -0.000182\n",
       "chestEMG    -0.007106\n",
       "chestEDA     0.520011\n",
       "chestTemp    0.297114\n",
       "chestResp   -0.000205\n",
       "label        1.000000\n",
       "Name: label, dtype: float64"
      ]
     },
     "execution_count": 31,
     "metadata": {},
     "output_type": "execute_result"
    }
   ],
   "source": [
    "filtered_train.corr()['label']"
   ]
  },
  {
   "cell_type": "code",
   "execution_count": 32,
   "metadata": {},
   "outputs": [],
   "source": [
    "filtered_target = filtered_train['label']\n",
    "filtered_train = filtered_train.drop(['label','chestECG',\"chestResp\"], axis=1)"
   ]
  },
  {
   "cell_type": "code",
   "execution_count": 33,
   "metadata": {},
   "outputs": [
    {
     "name": "stdout",
     "output_type": "stream",
     "text": [
      "(1508500,)\n",
      "(1508500, 6)\n"
     ]
    }
   ],
   "source": [
    "print(filtered_target.shape)\n",
    "print(filtered_train.shape)\n",
    "filtered_target=filtered_target.replace({1:0,2:1,3:2})\n",
    "filtered_train=filtered_train[0:1508500]\n",
    "filtered_target=filtered_target[0:1508500]"
   ]
  },
  {
   "cell_type": "code",
   "execution_count": 34,
   "metadata": {},
   "outputs": [
    {
     "name": "stdout",
     "output_type": "stream",
     "text": [
      "(1508500,)\n",
      "(1508500, 6)\n"
     ]
    }
   ],
   "source": [
    "print(filtered_target.shape)\n",
    "print(filtered_train.shape)"
   ]
  },
  {
   "cell_type": "code",
   "execution_count": 35,
   "metadata": {},
   "outputs": [
    {
     "name": "stdout",
     "output_type": "stream",
     "text": [
      "<class 'pandas.core.frame.DataFrame'>\n",
      "Int64Index: 1508500 entries, 246998 to 3765197\n",
      "Data columns (total 6 columns):\n",
      " #   Column     Non-Null Count    Dtype  \n",
      "---  ------     --------------    -----  \n",
      " 0   chestACCx  1508500 non-null  float64\n",
      " 1   chestACCy  1508500 non-null  float64\n",
      " 2   chestACCz  1508500 non-null  float64\n",
      " 3   chestEMG   1508500 non-null  float64\n",
      " 4   chestEDA   1508500 non-null  float64\n",
      " 5   chestTemp  1508500 non-null  float64\n",
      "dtypes: float64(6)\n",
      "memory usage: 80.6 MB\n"
     ]
    }
   ],
   "source": [
    "filtered_train.info()"
   ]
  },
  {
   "cell_type": "code",
   "execution_count": 36,
   "metadata": {},
   "outputs": [
    {
     "name": "stdout",
     "output_type": "stream",
     "text": [
      "<class 'pandas.core.series.Series'>\n",
      "Int64Index: 1508500 entries, 246998 to 3765197\n",
      "Series name: label\n",
      "Non-Null Count    Dtype\n",
      "--------------    -----\n",
      "1508500 non-null  int64\n",
      "dtypes: int64(1)\n",
      "memory usage: 23.0 MB\n"
     ]
    }
   ],
   "source": [
    "filtered_target.info()"
   ]
  },
  {
   "cell_type": "code",
   "execution_count": 37,
   "metadata": {},
   "outputs": [
    {
     "data": {
      "text/plain": [
       "array([0, 1, 2])"
      ]
     },
     "execution_count": 37,
     "metadata": {},
     "output_type": "execute_result"
    }
   ],
   "source": [
    "a=np.unique(filtered_target)\n",
    "a"
   ]
  },
  {
   "cell_type": "code",
   "execution_count": 38,
   "metadata": {},
   "outputs": [
    {
     "data": {
      "text/html": [
       "<div>\n",
       "<style scoped>\n",
       "    .dataframe tbody tr th:only-of-type {\n",
       "        vertical-align: middle;\n",
       "    }\n",
       "\n",
       "    .dataframe tbody tr th {\n",
       "        vertical-align: top;\n",
       "    }\n",
       "\n",
       "    .dataframe thead th {\n",
       "        text-align: right;\n",
       "    }\n",
       "</style>\n",
       "<table border=\"1\" class=\"dataframe\">\n",
       "  <thead>\n",
       "    <tr style=\"text-align: right;\">\n",
       "      <th></th>\n",
       "      <th>chestACCx</th>\n",
       "      <th>chestACCy</th>\n",
       "      <th>chestACCz</th>\n",
       "      <th>chestEMG</th>\n",
       "      <th>chestEDA</th>\n",
       "      <th>chestTemp</th>\n",
       "    </tr>\n",
       "  </thead>\n",
       "  <tbody>\n",
       "    <tr>\n",
       "      <th>count</th>\n",
       "      <td>1.508500e+06</td>\n",
       "      <td>1.508500e+06</td>\n",
       "      <td>1.508500e+06</td>\n",
       "      <td>1.508500e+06</td>\n",
       "      <td>1.508500e+06</td>\n",
       "      <td>1.508500e+06</td>\n",
       "    </tr>\n",
       "    <tr>\n",
       "      <th>mean</th>\n",
       "      <td>8.715897e-01</td>\n",
       "      <td>-8.104693e-03</td>\n",
       "      <td>-1.941080e-01</td>\n",
       "      <td>-3.438148e-03</td>\n",
       "      <td>7.563662e+00</td>\n",
       "      <td>3.202233e+01</td>\n",
       "    </tr>\n",
       "    <tr>\n",
       "      <th>std</th>\n",
       "      <td>6.660401e-02</td>\n",
       "      <td>6.834795e-02</td>\n",
       "      <td>2.155274e-01</td>\n",
       "      <td>2.607120e-02</td>\n",
       "      <td>9.664791e-01</td>\n",
       "      <td>2.443908e+00</td>\n",
       "    </tr>\n",
       "    <tr>\n",
       "      <th>min</th>\n",
       "      <td>-6.600000e+00</td>\n",
       "      <td>-6.600000e+00</td>\n",
       "      <td>-6.600000e+00</td>\n",
       "      <td>-1.500000e+00</td>\n",
       "      <td>0.000000e+00</td>\n",
       "      <td>-2.731500e+02</td>\n",
       "    </tr>\n",
       "    <tr>\n",
       "      <th>25%</th>\n",
       "      <td>8.386000e-01</td>\n",
       "      <td>-4.619998e-02</td>\n",
       "      <td>-3.926000e-01</td>\n",
       "      <td>-1.240540e-02</td>\n",
       "      <td>6.628418e+00</td>\n",
       "      <td>3.132520e+01</td>\n",
       "    </tr>\n",
       "    <tr>\n",
       "      <th>50%</th>\n",
       "      <td>8.570000e-01</td>\n",
       "      <td>-1.580000e-02</td>\n",
       "      <td>-3.336000e-01</td>\n",
       "      <td>-3.433228e-03</td>\n",
       "      <td>7.557297e+00</td>\n",
       "      <td>3.181219e+01</td>\n",
       "    </tr>\n",
       "    <tr>\n",
       "      <th>75%</th>\n",
       "      <td>9.090000e-01</td>\n",
       "      <td>2.680004e-02</td>\n",
       "      <td>1.499999e-02</td>\n",
       "      <td>5.401611e-03</td>\n",
       "      <td>8.146667e+00</td>\n",
       "      <td>3.311304e+01</td>\n",
       "    </tr>\n",
       "    <tr>\n",
       "      <th>max</th>\n",
       "      <td>1.100600e+00</td>\n",
       "      <td>5.125999e-01</td>\n",
       "      <td>8.714000e-01</td>\n",
       "      <td>1.047180e+00</td>\n",
       "      <td>1.209869e+01</td>\n",
       "      <td>3.452197e+01</td>\n",
       "    </tr>\n",
       "  </tbody>\n",
       "</table>\n",
       "</div>"
      ],
      "text/plain": [
       "          chestACCx     chestACCy     chestACCz      chestEMG      chestEDA  \\\n",
       "count  1.508500e+06  1.508500e+06  1.508500e+06  1.508500e+06  1.508500e+06   \n",
       "mean   8.715897e-01 -8.104693e-03 -1.941080e-01 -3.438148e-03  7.563662e+00   \n",
       "std    6.660401e-02  6.834795e-02  2.155274e-01  2.607120e-02  9.664791e-01   \n",
       "min   -6.600000e+00 -6.600000e+00 -6.600000e+00 -1.500000e+00  0.000000e+00   \n",
       "25%    8.386000e-01 -4.619998e-02 -3.926000e-01 -1.240540e-02  6.628418e+00   \n",
       "50%    8.570000e-01 -1.580000e-02 -3.336000e-01 -3.433228e-03  7.557297e+00   \n",
       "75%    9.090000e-01  2.680004e-02  1.499999e-02  5.401611e-03  8.146667e+00   \n",
       "max    1.100600e+00  5.125999e-01  8.714000e-01  1.047180e+00  1.209869e+01   \n",
       "\n",
       "          chestTemp  \n",
       "count  1.508500e+06  \n",
       "mean   3.202233e+01  \n",
       "std    2.443908e+00  \n",
       "min   -2.731500e+02  \n",
       "25%    3.132520e+01  \n",
       "50%    3.181219e+01  \n",
       "75%    3.311304e+01  \n",
       "max    3.452197e+01  "
      ]
     },
     "execution_count": 38,
     "metadata": {},
     "output_type": "execute_result"
    }
   ],
   "source": [
    "filtered_train.describe()"
   ]
  },
  {
   "cell_type": "code",
   "execution_count": 39,
   "metadata": {},
   "outputs": [],
   "source": [
    "from sklearn.model_selection import train_test_split\n",
    "from sklearn.utils import shuffle\n",
    "# shuffle X and y\n",
    "X_shuffled, y_shuffled = shuffle(filtered_train, filtered_target, random_state=42)\n",
    "\n",
    "# split into train and test sets\n",
    "X_train, X_test, y_train, y_test = train_test_split(X_shuffled, y_shuffled, test_size=0.2, random_state=42)\n"
   ]
  },
  {
   "cell_type": "code",
   "execution_count": 40,
   "metadata": {},
   "outputs": [
    {
     "data": {
      "text/plain": [
       "(1206800, 6)"
      ]
     },
     "execution_count": 40,
     "metadata": {},
     "output_type": "execute_result"
    }
   ],
   "source": [
    "X_train.shape"
   ]
  },
  {
   "cell_type": "code",
   "execution_count": 41,
   "metadata": {},
   "outputs": [],
   "source": [
    "from keras.models import Sequential \n",
    "from keras.layers import Dense,Activation,Dropout \n",
    "from keras.utils import np_utils\n",
    "from tensorflow.keras.layers import BatchNormalization\n",
    "from keras.optimizers import Adam\n",
    "\n"
   ]
  },
  {
   "cell_type": "code",
   "execution_count": 42,
   "metadata": {},
   "outputs": [],
   "source": [
    "from keras.utils import to_categorical\n",
    "y_train = to_categorical(y_train, num_classes=3)\n",
    "y_test = to_categorical(y_test, num_classes=3)\n"
   ]
  },
  {
   "cell_type": "markdown",
   "metadata": {},
   "source": [
    "# first neural network"
   ]
  },
  {
   "cell_type": "markdown",
   "metadata": {},
   "source": [
    "# second neural network"
   ]
  },
  {
   "cell_type": "code",
   "execution_count": 43,
   "metadata": {},
   "outputs": [
    {
     "name": "stderr",
     "output_type": "stream",
     "text": [
      "/home/deepin/.local/lib/python3.10/site-packages/keras/optimizers/optimizer_v2/adam.py:114: UserWarning: The `lr` argument is deprecated, use `learning_rate` instead.\n",
      "  super().__init__(name, **kwargs)\n"
     ]
    },
    {
     "name": "stdout",
     "output_type": "stream",
     "text": [
      "Epoch 1/100\n",
      "2414/2414 [==============================] - 29s 11ms/step - loss: 0.1718 - accuracy: 0.9324 - val_loss: 1.5502 - val_accuracy: 0.6395 - lr: 0.0010\n",
      "Epoch 2/100\n",
      "2414/2414 [==============================] - 26s 11ms/step - loss: 0.0632 - accuracy: 0.9793 - val_loss: 2.9303 - val_accuracy: 0.7505 - lr: 0.0010\n",
      "Epoch 3/100\n",
      "2414/2414 [==============================] - 28s 11ms/step - loss: 0.0525 - accuracy: 0.9833 - val_loss: 2.8688 - val_accuracy: 0.8149 - lr: 0.0010\n",
      "Epoch 4/100\n",
      "2414/2414 [==============================] - 27s 11ms/step - loss: 0.0449 - accuracy: 0.9860 - val_loss: 0.0416 - val_accuracy: 0.9951 - lr: 0.0010\n",
      "Epoch 5/100\n",
      "2414/2414 [==============================] - 27s 11ms/step - loss: 0.0406 - accuracy: 0.9873 - val_loss: 2.5673 - val_accuracy: 0.8235 - lr: 0.0010\n",
      "Epoch 6/100\n",
      "2414/2414 [==============================] - 27s 11ms/step - loss: 0.0369 - accuracy: 0.9886 - val_loss: 2.3867 - val_accuracy: 0.8247 - lr: 0.0010\n",
      "Epoch 7/100\n",
      "2414/2414 [==============================] - 27s 11ms/step - loss: 0.0376 - accuracy: 0.9884 - val_loss: 1.3108 - val_accuracy: 0.7094 - lr: 0.0010\n",
      "Epoch 8/100\n",
      "2414/2414 [==============================] - 27s 11ms/step - loss: 0.0355 - accuracy: 0.9890 - val_loss: 0.4987 - val_accuracy: 0.8388 - lr: 0.0010\n",
      "Epoch 9/100\n",
      "2411/2414 [============================>.] - ETA: 0s - loss: 0.0352 - accuracy: 0.9890\n",
      "Epoch 9: ReduceLROnPlateau reducing learning rate to 0.0005000000237487257.\n",
      "2414/2414 [==============================] - 27s 11ms/step - loss: 0.0352 - accuracy: 0.9890 - val_loss: 0.5213 - val_accuracy: 0.8312 - lr: 0.0010\n",
      "Epoch 10/100\n",
      "2414/2414 [==============================] - 27s 11ms/step - loss: 0.0330 - accuracy: 0.9899 - val_loss: 0.0089 - val_accuracy: 0.9987 - lr: 5.0000e-04\n",
      "Epoch 11/100\n",
      "2414/2414 [==============================] - 27s 11ms/step - loss: 0.0329 - accuracy: 0.9900 - val_loss: 0.0091 - val_accuracy: 0.9985 - lr: 5.0000e-04\n",
      "Epoch 12/100\n",
      "2414/2414 [==============================] - 26s 11ms/step - loss: 0.0325 - accuracy: 0.9901 - val_loss: 0.1541 - val_accuracy: 0.9641 - lr: 5.0000e-04\n",
      "Epoch 13/100\n",
      "2414/2414 [==============================] - 27s 11ms/step - loss: 0.0330 - accuracy: 0.9899 - val_loss: 0.1412 - val_accuracy: 0.9676 - lr: 5.0000e-04\n",
      "Epoch 14/100\n",
      "2414/2414 [==============================] - 27s 11ms/step - loss: 0.0323 - accuracy: 0.9901 - val_loss: 0.0089 - val_accuracy: 0.9976 - lr: 5.0000e-04\n",
      "Epoch 15/100\n",
      "2414/2414 [==============================] - ETA: 0s - loss: 0.0324 - accuracy: 0.9901\n",
      "Epoch 15: ReduceLROnPlateau reducing learning rate to 0.0002500000118743628.\n",
      "2414/2414 [==============================] - 27s 11ms/step - loss: 0.0324 - accuracy: 0.9901 - val_loss: 1.4614 - val_accuracy: 0.8311 - lr: 5.0000e-04\n",
      "Epoch 16/100\n",
      "2414/2414 [==============================] - 27s 11ms/step - loss: 0.0312 - accuracy: 0.9907 - val_loss: 0.2568 - val_accuracy: 0.9170 - lr: 2.5000e-04\n",
      "Epoch 17/100\n",
      "2414/2414 [==============================] - 27s 11ms/step - loss: 0.0311 - accuracy: 0.9905 - val_loss: 2.3215 - val_accuracy: 0.8273 - lr: 2.5000e-04\n",
      "Epoch 18/100\n",
      "2414/2414 [==============================] - 27s 11ms/step - loss: 0.0287 - accuracy: 0.9913 - val_loss: 0.0670 - val_accuracy: 0.9758 - lr: 2.5000e-04\n",
      "Epoch 19/100\n",
      "2414/2414 [==============================] - 27s 11ms/step - loss: 0.0305 - accuracy: 0.9908 - val_loss: 0.1188 - val_accuracy: 0.9667 - lr: 2.5000e-04\n",
      "Epoch 20/100\n",
      "2414/2414 [==============================] - ETA: 0s - loss: 0.0288 - accuracy: 0.9913\n",
      "Epoch 20: ReduceLROnPlateau reducing learning rate to 0.0001250000059371814.\n",
      "2414/2414 [==============================] - 27s 11ms/step - loss: 0.0288 - accuracy: 0.9913 - val_loss: 0.0904 - val_accuracy: 0.9734 - lr: 2.5000e-04\n",
      "Epoch 21/100\n",
      "2414/2414 [==============================] - 27s 11ms/step - loss: 0.0267 - accuracy: 0.9920 - val_loss: 0.0054 - val_accuracy: 0.9988 - lr: 1.2500e-04\n",
      "Epoch 22/100\n",
      "2414/2414 [==============================] - 27s 11ms/step - loss: 0.0268 - accuracy: 0.9920 - val_loss: 0.0946 - val_accuracy: 0.9584 - lr: 1.2500e-04\n",
      "Epoch 23/100\n",
      "2414/2414 [==============================] - 26s 11ms/step - loss: 0.0261 - accuracy: 0.9922 - val_loss: 0.0267 - val_accuracy: 0.9903 - lr: 1.2500e-04\n",
      "Epoch 24/100\n",
      "2414/2414 [==============================] - 27s 11ms/step - loss: 0.0258 - accuracy: 0.9923 - val_loss: 0.0074 - val_accuracy: 0.9983 - lr: 1.2500e-04\n",
      "Epoch 25/100\n",
      "2414/2414 [==============================] - 27s 11ms/step - loss: 0.0250 - accuracy: 0.9926 - val_loss: 0.2150 - val_accuracy: 0.9615 - lr: 1.2500e-04\n",
      "Epoch 26/100\n",
      "2413/2414 [============================>.] - ETA: 0s - loss: 0.0245 - accuracy: 0.9928\n",
      "Epoch 26: ReduceLROnPlateau reducing learning rate to 6.25000029685907e-05.\n",
      "2414/2414 [==============================] - 27s 11ms/step - loss: 0.0245 - accuracy: 0.9928 - val_loss: 0.0277 - val_accuracy: 0.9908 - lr: 1.2500e-04\n",
      "Epoch 27/100\n",
      "2414/2414 [==============================] - 27s 11ms/step - loss: 0.0240 - accuracy: 0.9929 - val_loss: 0.0051 - val_accuracy: 0.9987 - lr: 6.2500e-05\n",
      "Epoch 28/100\n",
      "2414/2414 [==============================] - 27s 11ms/step - loss: 0.0241 - accuracy: 0.9930 - val_loss: 0.0051 - val_accuracy: 0.9987 - lr: 6.2500e-05\n",
      "Epoch 29/100\n",
      "2414/2414 [==============================] - 27s 11ms/step - loss: 0.0231 - accuracy: 0.9932 - val_loss: 0.0047 - val_accuracy: 0.9989 - lr: 6.2500e-05\n",
      "Epoch 30/100\n",
      "2414/2414 [==============================] - 27s 11ms/step - loss: 0.0230 - accuracy: 0.9934 - val_loss: 0.0064 - val_accuracy: 0.9985 - lr: 6.2500e-05\n",
      "Epoch 31/100\n",
      "2414/2414 [==============================] - 27s 11ms/step - loss: 0.0227 - accuracy: 0.9933 - val_loss: 0.0055 - val_accuracy: 0.9988 - lr: 6.2500e-05\n",
      "Epoch 32/100\n",
      "2414/2414 [==============================] - 27s 11ms/step - loss: 0.0234 - accuracy: 0.9932 - val_loss: 0.0063 - val_accuracy: 0.9987 - lr: 6.2500e-05\n",
      "Epoch 33/100\n",
      "2414/2414 [==============================] - 27s 11ms/step - loss: 0.0219 - accuracy: 0.9936 - val_loss: 0.0049 - val_accuracy: 0.9988 - lr: 6.2500e-05\n",
      "Epoch 34/100\n",
      "2410/2414 [============================>.] - ETA: 0s - loss: 0.0219 - accuracy: 0.9935\n",
      "Epoch 34: ReduceLROnPlateau reducing learning rate to 3.125000148429535e-05.\n",
      "2414/2414 [==============================] - 27s 11ms/step - loss: 0.0219 - accuracy: 0.9935 - val_loss: 0.0792 - val_accuracy: 0.9766 - lr: 6.2500e-05\n",
      "Epoch 35/100\n",
      "2414/2414 [==============================] - 27s 11ms/step - loss: 0.0220 - accuracy: 0.9936 - val_loss: 0.0044 - val_accuracy: 0.9990 - lr: 3.1250e-05\n",
      "Epoch 36/100\n",
      "2414/2414 [==============================] - 27s 11ms/step - loss: 0.0221 - accuracy: 0.9937 - val_loss: 0.0043 - val_accuracy: 0.9990 - lr: 3.1250e-05\n",
      "Epoch 37/100\n",
      "2414/2414 [==============================] - 27s 11ms/step - loss: 0.0214 - accuracy: 0.9938 - val_loss: 0.0045 - val_accuracy: 0.9989 - lr: 3.1250e-05\n",
      "Epoch 38/100\n",
      "2414/2414 [==============================] - 27s 11ms/step - loss: 0.0220 - accuracy: 0.9937 - val_loss: 0.0053 - val_accuracy: 0.9987 - lr: 3.1250e-05\n",
      "Epoch 39/100\n",
      "2414/2414 [==============================] - 31s 13ms/step - loss: 0.0217 - accuracy: 0.9937 - val_loss: 0.0115 - val_accuracy: 0.9977 - lr: 3.1250e-05\n",
      "Epoch 40/100\n",
      "2414/2414 [==============================] - 29s 12ms/step - loss: 0.0214 - accuracy: 0.9937 - val_loss: 0.0053 - val_accuracy: 0.9986 - lr: 3.1250e-05\n",
      "Epoch 41/100\n",
      "2412/2414 [============================>.] - ETA: 0s - loss: 0.0215 - accuracy: 0.9937\n",
      "Epoch 41: ReduceLROnPlateau reducing learning rate to 1.5625000742147677e-05.\n",
      "2414/2414 [==============================] - 24s 10ms/step - loss: 0.0215 - accuracy: 0.9937 - val_loss: 0.0043 - val_accuracy: 0.9990 - lr: 3.1250e-05\n",
      "Epoch 42/100\n",
      "2414/2414 [==============================] - 21s 9ms/step - loss: 0.0208 - accuracy: 0.9941 - val_loss: 0.0048 - val_accuracy: 0.9988 - lr: 1.5625e-05\n",
      "Epoch 43/100\n",
      "2414/2414 [==============================] - 21s 9ms/step - loss: 0.0209 - accuracy: 0.9940 - val_loss: 0.0058 - val_accuracy: 0.9985 - lr: 1.5625e-05\n",
      "Epoch 44/100\n",
      "2414/2414 [==============================] - 25s 10ms/step - loss: 0.0205 - accuracy: 0.9940 - val_loss: 0.0050 - val_accuracy: 0.9987 - lr: 1.5625e-05\n",
      "Epoch 45/100\n",
      "2414/2414 [==============================] - 24s 10ms/step - loss: 0.0205 - accuracy: 0.9941 - val_loss: 0.0045 - val_accuracy: 0.9989 - lr: 1.5625e-05\n",
      "Epoch 46/100\n",
      "2410/2414 [============================>.] - ETA: 0s - loss: 0.0205 - accuracy: 0.9941\n",
      "Epoch 46: ReduceLROnPlateau reducing learning rate to 1e-05.\n",
      "2414/2414 [==============================] - 24s 10ms/step - loss: 0.0205 - accuracy: 0.9941 - val_loss: 0.0055 - val_accuracy: 0.9986 - lr: 1.5625e-05\n",
      "9429/9429 [==============================] - 62s 7ms/step - loss: 0.0043 - accuracy: 0.9990\n",
      "Test Loss: 0.0043\n",
      "Test Accuracy: 0.9990\n"
     ]
    }
   ],
   "source": [
    "from tensorflow.keras.models import Sequential\n",
    "from tensorflow.keras.layers import Dense, Dropout, BatchNormalization\n",
    "from tensorflow.keras.optimizers import Adam\n",
    "from tensorflow.keras.callbacks import EarlyStopping, ReduceLROnPlateau\n",
    "from sklearn.model_selection import train_test_split\n",
    "# Define the model\n",
    "\n",
    "model = Sequential([\n",
    "    Dense(64, input_dim=X_train.shape[1], activation='relu'),\n",
    "    BatchNormalization(),\n",
    "    Dropout(0.5),\n",
    "    Dense(32, activation='relu'),\n",
    "    BatchNormalization(),\n",
    "    Dropout(0.5),\n",
    "    Dense(3, activation='softmax')\n",
    "])\n",
    "\n",
    "# Compile the model\n",
    "optimizer = Adam(lr=0.001)\n",
    "model.compile(loss='categorical_crossentropy', optimizer=optimizer, metrics=['accuracy'])\n",
    "\n",
    "# Define early stopping and learning rate reduction callbacks\n",
    "early_stopping = EarlyStopping(monitor='val_loss', patience=10, restore_best_weights=True)\n",
    "reduce_lr = ReduceLROnPlateau(monitor='val_loss', factor=0.5, patience=5, verbose=1, min_lr=0.00001)\n",
    "\n",
    "# Train the model\n",
    "history = model.fit(X_train, y_train, epochs=100, batch_size=500, validation_data=(X_test, y_test), callbacks=[early_stopping, reduce_lr])\n",
    "loss, accuracy = model.evaluate(X_test, y_test)\n",
    "print(f\"Test Loss: {loss:.4f}\")\n",
    "print(f\"Test Accuracy: {accuracy:.4f}\")"
   ]
  },
  {
   "cell_type": "code",
   "execution_count": 44,
   "metadata": {},
   "outputs": [
    {
     "name": "stdout",
     "output_type": "stream",
     "text": [
      "Model: \"sequential_2\"\n",
      "_________________________________________________________________\n",
      " Layer (type)                Output Shape              Param #   \n",
      "=================================================================\n",
      " dense_6 (Dense)             (None, 64)                448       \n",
      "                                                                 \n",
      " batch_normalization_4 (Batc  (None, 64)               256       \n",
      " hNormalization)                                                 \n",
      "                                                                 \n",
      " dropout_4 (Dropout)         (None, 64)                0         \n",
      "                                                                 \n",
      " dense_7 (Dense)             (None, 32)                2080      \n",
      "                                                                 \n",
      " batch_normalization_5 (Batc  (None, 32)               128       \n",
      " hNormalization)                                                 \n",
      "                                                                 \n",
      " dropout_5 (Dropout)         (None, 32)                0         \n",
      "                                                                 \n",
      " dense_8 (Dense)             (None, 3)                 99        \n",
      "                                                                 \n",
      "=================================================================\n",
      "Total params: 3,011\n",
      "Trainable params: 2,819\n",
      "Non-trainable params: 192\n",
      "_________________________________________________________________\n"
     ]
    }
   ],
   "source": [
    "model.summary()"
   ]
  },
  {
   "cell_type": "code",
   "execution_count": 47,
   "metadata": {},
   "outputs": [],
   "source": [
    "model.save('model.h5')"
   ]
  },
  {
   "cell_type": "code",
   "execution_count": null,
   "metadata": {},
   "outputs": [],
   "source": [
    "import pickle\n",
    "\n",
    "# assume you have a Keras model named `model`\n",
    "# ...\n",
    "\n",
    "# save the model to a pickle file\n",
    "with open('model.pkl', 'wb') as file:\n",
    "    pickle.dump(model, file)\n"
   ]
  },
  {
   "cell_type": "code",
   "execution_count": null,
   "metadata": {},
   "outputs": [],
   "source": [
    "import tensorflow as tf\n",
    "from tensorflow import keras\n",
    "model = tf.keras.models.load_model('model.h5')\n"
   ]
  }
 ],
 "metadata": {
  "kernelspec": {
   "display_name": "Python 3 (ipykernel)",
   "language": "python",
   "name": "python3"
  },
  "language_info": {
   "codemirror_mode": {
    "name": "ipython",
    "version": 3
   },
   "file_extension": ".py",
   "mimetype": "text/x-python",
   "name": "python",
   "nbconvert_exporter": "python",
   "pygments_lexer": "ipython3",
   "version": "3.9.16"
  },
  "vscode": {
   "interpreter": {
    "hash": "916dbcbb3f70747c44a77c7bcd40155683ae19c65e1c03b4aa3499c5328201f1"
   }
  }
 },
 "nbformat": 4,
 "nbformat_minor": 2
}
